{
 "cells": [
  {
   "cell_type": "markdown",
   "metadata": {},
   "source": [
    "## Assignment - 2\n",
    "\n",
    "## Question - 1:"
   ]
  },
  {
   "cell_type": "code",
   "execution_count": 2,
   "metadata": {},
   "outputs": [
    {
     "name": "stdout",
     "output_type": "stream",
     "text": [
      "[2, 4, 10, 20, 5]\n"
     ]
    }
   ],
   "source": [
    "list = [2, 4, 10, 20, 5, 2, 20, 4]\n",
    "final_list = []\n",
    "for num in list:\n",
    "    if num not in final_list:\n",
    "        final_list.append(num)\n",
    "print(final_list)"
   ]
  },
  {
   "cell_type": "markdown",
   "metadata": {},
   "source": [
    "## Question - 2:"
   ]
  },
  {
   "cell_type": "code",
   "execution_count": 8,
   "metadata": {},
   "outputs": [
    {
     "name": "stdout",
     "output_type": "stream",
     "text": [
      "[1, 2]\n"
     ]
    }
   ],
   "source": [
    "list1 = [1, 2, 4]\n",
    "list2 = [4, 5, 6]\n",
    "\n",
    "list_difference = []\n",
    "for item in list1:\n",
    "  if item not in list2:\n",
    "    list_difference.append(item)\n",
    "\n",
    "print(list_difference)"
   ]
  },
  {
   "cell_type": "markdown",
   "metadata": {},
   "source": [
    "## Question - 3:"
   ]
  },
  {
   "cell_type": "code",
   "execution_count": 11,
   "metadata": {},
   "outputs": [
    {
     "name": "stdout",
     "output_type": "stream",
     "text": [
      "Frequency:  1\n"
     ]
    }
   ],
   "source": [
    "arr = [1, 2, 8, 3, 2, 2, 2, 5, 1];     \n",
    "for i in range(0, len(arr)):    \n",
    "    count = 1;    \n",
    "    for j in range(i+1, len(arr)):    \n",
    "        if(arr[i] == arr[j]):    \n",
    "            count = count + 1;\n",
    "print(\"Frequency: \", count)"
   ]
  },
  {
   "cell_type": "markdown",
   "metadata": {},
   "source": [
    "## Question - 4:"
   ]
  },
  {
   "cell_type": "code",
   "execution_count": 26,
   "metadata": {},
   "outputs": [
    {
     "name": "stdout",
     "output_type": "stream",
     "text": [
      "Color1-Color2:  Counter({'red': 1, 'orange': 1, 'white': 1})\n",
      "Color2-Color1:  Counter({'black': 1, 'yellow': 1})\n"
     ]
    }
   ],
   "source": [
    "from collections import Counter\n",
    "color1 = [\"red\", \"orange\", \"green\", \"blue\", \"white\"]\n",
    "color2 = [\"black\", \"yellow\", \"green\", \"blue\"]\n",
    "counter1 = Counter(color1)\n",
    "counter2 = Counter(color2)\n",
    "print(\"Color1-Color2: \",(counter1 - counter2))\n",
    "print(\"Color2-Color1: \",(counter2 - counter1))"
   ]
  }
 ],
 "metadata": {
  "kernelspec": {
   "display_name": "Python 3",
   "language": "python",
   "name": "python3"
  },
  "language_info": {
   "codemirror_mode": {
    "name": "ipython",
    "version": 3
   },
   "file_extension": ".py",
   "mimetype": "text/x-python",
   "name": "python",
   "nbconvert_exporter": "python",
   "pygments_lexer": "ipython3",
   "version": "3.8.3"
  }
 },
 "nbformat": 4,
 "nbformat_minor": 4
}
