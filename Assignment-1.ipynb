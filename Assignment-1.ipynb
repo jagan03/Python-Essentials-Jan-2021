{
 "cells": [
  {
   "cell_type": "markdown",
   "metadata": {},
   "source": [
    "# Assignment-1\n",
    "\n",
    "# Question-1"
   ]
  },
  {
   "cell_type": "code",
   "execution_count": 10,
   "metadata": {},
   "outputs": [
    {
     "name": "stdout",
     "output_type": "stream",
     "text": [
      "Result is:  0.4166666666666667\n"
     ]
    }
   ],
   "source": [
    "x = 5\n",
    "y = 2*x+5\n",
    "z = x^2+5*x+6\n",
    "a = y / z\n",
    "print(\"Result is: \",a)"
   ]
  },
  {
   "cell_type": "code",
   "execution_count": 12,
   "metadata": {},
   "outputs": [
    {
     "name": "stdout",
     "output_type": "stream",
     "text": [
      "Result is:  2.4\n"
     ]
    }
   ],
   "source": [
    "x = 5\n",
    "y = x^2+5*x+6\n",
    "z = 2*x+5\n",
    "a = y / z\n",
    "print(\"Result is: \",a)"
   ]
  },
  {
   "cell_type": "code",
   "execution_count": 13,
   "metadata": {},
   "outputs": [
    {
     "name": "stdout",
     "output_type": "stream",
     "text": [
      "Result is:  -28\n"
     ]
    }
   ],
   "source": [
    "x = 5\n",
    "y = (2*x-3) * (x-9)\n",
    "print(\"Result is: \",y)"
   ]
  },
  {
   "cell_type": "markdown",
   "metadata": {},
   "source": [
    "## Question-2"
   ]
  },
  {
   "cell_type": "code",
   "execution_count": 18,
   "metadata": {},
   "outputs": [
    {
     "name": "stdout",
     "output_type": "stream",
     "text": [
      "Username: 12345\n",
      "Password: kaala\n",
      "This is not a valid username, input username again!\n",
      "Username: 12345\n",
      "Password: 12345\n",
      "This is not a valid username, input username again!\n",
      "Username: username1\n",
      "Password: kaala\n",
      "Password is not valid for username1. \n",
      "Username: username1\n",
      "Password: 12345\n",
      "Welcome username1 \n",
      "Thank you for logging on. \n",
      "Username and Password Validation is Successful\n"
     ]
    }
   ],
   "source": [
    "complete = False\n",
    "user = {\"username1\" : \"12345\", \"username2\" : \"67890\" }\n",
    " \n",
    "while not complete:\n",
    "    username = input(\"Username: \")\n",
    "    password = input(\"Password: \")\n",
    "    if username == user and password == password:\n",
    "        continue\n",
    "    elif username not in user:\n",
    "        print(\"This is not a valid username, input username again!\")\n",
    "        continue\n",
    "    elif password != user[username]:\n",
    "        print(f\"Password is not valid for {username}. \")\n",
    "        continue\n",
    "    elif password == user[username]:\n",
    "        print(f\"Welcome {username} \")\n",
    "        print(f\"Thank you for logging on. \")\n",
    "        complete = True\n",
    " \n",
    "print (\"Username and Password Validation is Successful\")"
   ]
  }
 ],
 "metadata": {
  "kernelspec": {
   "display_name": "Python 3",
   "language": "python",
   "name": "python3"
  },
  "language_info": {
   "codemirror_mode": {
    "name": "ipython",
    "version": 3
   },
   "file_extension": ".py",
   "mimetype": "text/x-python",
   "name": "python",
   "nbconvert_exporter": "python",
   "pygments_lexer": "ipython3",
   "version": "3.8.3"
  }
 },
 "nbformat": 4,
 "nbformat_minor": 4
}
